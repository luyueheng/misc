{
 "cells": [
  {
   "cell_type": "markdown",
   "metadata": {},
   "source": [
    "# 100 Geo-Intelligence Company"
   ]
  },
  {
   "cell_type": "markdown",
   "metadata": {},
   "source": [
    "> Data collection from **2019 Top 100 Geospatial Companies and Startups List**, add website link to each company.\n",
    "<br></br>https://geoawesomeness.com/2019-top-100-geospatial-companies-startups/\n",
    "<br></br><br></br>Technology: Pandas, Beautiful Soup\n",
    "<br></br><br></br>Yueheng Lu\n",
    "<br></br>March 27, 2020"
   ]
  },
  {
   "cell_type": "code",
   "execution_count": 1,
   "metadata": {},
   "outputs": [],
   "source": [
    "import pandas as pd"
   ]
  },
  {
   "cell_type": "code",
   "execution_count": 17,
   "metadata": {},
   "outputs": [
    {
     "data": {
      "text/plain": [
       "Index(['Company Name', 'Category', 'HQ Location', 'Founded Date',\n",
       "       'Company Summary', 'Number Of Employees', 'Company Tech Stack',\n",
       "       'Which companies do you partner up with currently?',\n",
       "       'What problem are they trying to solve? How does location data play a role in it?',\n",
       "       'What value does a client (or future client) see from their product. Who is their ideal customer?',\n",
       "       'Funding Status', 'Twitter Handle'],\n",
       "      dtype='object')"
      ]
     },
     "execution_count": 17,
     "metadata": {},
     "output_type": "execute_result"
    }
   ],
   "source": [
    "df = pd.read_csv('100GeoCompany.csv')\n",
    "df.columns"
   ]
  },
  {
   "cell_type": "code",
   "execution_count": 42,
   "metadata": {},
   "outputs": [
    {
     "data": {
      "text/html": [
       "<div>\n",
       "<style scoped>\n",
       "    .dataframe tbody tr th:only-of-type {\n",
       "        vertical-align: middle;\n",
       "    }\n",
       "\n",
       "    .dataframe tbody tr th {\n",
       "        vertical-align: top;\n",
       "    }\n",
       "\n",
       "    .dataframe thead th {\n",
       "        text-align: right;\n",
       "    }\n",
       "</style>\n",
       "<table border=\"1\" class=\"dataframe\">\n",
       "  <thead>\n",
       "    <tr style=\"text-align: right;\">\n",
       "      <th></th>\n",
       "      <th>Company Name</th>\n",
       "      <th>Category</th>\n",
       "      <th>Number Of Employees</th>\n",
       "      <th>Company Summary</th>\n",
       "      <th>HQ Location</th>\n",
       "    </tr>\n",
       "  </thead>\n",
       "  <tbody>\n",
       "    <tr>\n",
       "      <th>50</th>\n",
       "      <td>PlaceIQ</td>\n",
       "      <td>Location Intelligence</td>\n",
       "      <td>101 to 250</td>\n",
       "      <td>PlaceIQ is a leading data and technology compa...</td>\n",
       "      <td>New York City, USA</td>\n",
       "    </tr>\n",
       "    <tr>\n",
       "      <th>51</th>\n",
       "      <td>Meemim Inc. (vGIS)</td>\n",
       "      <td>Mapping, GIS</td>\n",
       "      <td>10 to 20</td>\n",
       "      <td>Meemim Inc. develops leading-edge augmented re...</td>\n",
       "      <td>Toronto, Ontario, Canada</td>\n",
       "    </tr>\n",
       "    <tr>\n",
       "      <th>52</th>\n",
       "      <td>StreetCred</td>\n",
       "      <td>Mapping, GIS, Blockchain, Decentralization</td>\n",
       "      <td>1 to 5</td>\n",
       "      <td>StreetCred offers accessible data for places p...</td>\n",
       "      <td>New York City, USA</td>\n",
       "    </tr>\n",
       "    <tr>\n",
       "      <th>53</th>\n",
       "      <td>Living Map</td>\n",
       "      <td>Location Data Analytics, Location Intelligence...</td>\n",
       "      <td>30 to 40</td>\n",
       "      <td>Living Map is a digital map and data platform ...</td>\n",
       "      <td>Bath, UK</td>\n",
       "    </tr>\n",
       "    <tr>\n",
       "      <th>54</th>\n",
       "      <td>Ubimo</td>\n",
       "      <td>Location Data Analytics, Location Intelligence...</td>\n",
       "      <td>30 to 50</td>\n",
       "      <td>Ubimo is a leading Location Intelligence (LI) ...</td>\n",
       "      <td>Tel Aviv, Israel</td>\n",
       "    </tr>\n",
       "  </tbody>\n",
       "</table>\n",
       "</div>"
      ],
      "text/plain": [
       "          Company Name                                           Category  \\\n",
       "50             PlaceIQ                              Location Intelligence   \n",
       "51  Meemim Inc. (vGIS)                                       Mapping, GIS   \n",
       "52          StreetCred         Mapping, GIS, Blockchain, Decentralization   \n",
       "53          Living Map  Location Data Analytics, Location Intelligence...   \n",
       "54               Ubimo  Location Data Analytics, Location Intelligence...   \n",
       "\n",
       "   Number Of Employees                                    Company Summary  \\\n",
       "50          101 to 250  PlaceIQ is a leading data and technology compa...   \n",
       "51            10 to 20  Meemim Inc. develops leading-edge augmented re...   \n",
       "52              1 to 5  StreetCred offers accessible data for places p...   \n",
       "53            30 to 40  Living Map is a digital map and data platform ...   \n",
       "54            30 to 50  Ubimo is a leading Location Intelligence (LI) ...   \n",
       "\n",
       "                 HQ Location  \n",
       "50        New York City, USA  \n",
       "51  Toronto, Ontario, Canada  \n",
       "52        New York City, USA  \n",
       "53                  Bath, UK  \n",
       "54          Tel Aviv, Israel  "
      ]
     },
     "execution_count": 42,
     "metadata": {},
     "output_type": "execute_result"
    }
   ],
   "source": [
    "df_sel = df[['Company Name', 'Category', 'Number Of Employees', 'Company Summary', 'HQ Location']]\n",
    "df_sel_100 = df_sel.iloc[50:]\n",
    "df_sel_100.head()"
   ]
  },
  {
   "cell_type": "code",
   "execution_count": 20,
   "metadata": {},
   "outputs": [
    {
     "name": "stderr",
     "output_type": "stream",
     "text": [
      "/anaconda3/envs/cs109b/lib/python3.7/site-packages/ipykernel_launcher.py:1: SettingWithCopyWarning: \n",
      "A value is trying to be set on a copy of a slice from a DataFrame.\n",
      "Try using .loc[row_indexer,col_indexer] = value instead\n",
      "\n",
      "See the caveats in the documentation: https://pandas.pydata.org/pandas-docs/stable/user_guide/indexing.html#returning-a-view-versus-a-copy\n",
      "  \"\"\"Entry point for launching an IPython kernel.\n"
     ]
    }
   ],
   "source": [
    "df_sel_100['inUSA'] = df_sel_100['HQ Location'].apply(lambda x: True if 'USA' in x else False)"
   ]
  },
  {
   "cell_type": "code",
   "execution_count": 21,
   "metadata": {},
   "outputs": [],
   "source": [
    "df_100_inUSA = df_sel_100.loc[df_sel_100['inUSA'] == True]"
   ]
  },
  {
   "cell_type": "code",
   "execution_count": 23,
   "metadata": {},
   "outputs": [
    {
     "data": {
      "text/html": [
       "<div>\n",
       "<style scoped>\n",
       "    .dataframe tbody tr th:only-of-type {\n",
       "        vertical-align: middle;\n",
       "    }\n",
       "\n",
       "    .dataframe tbody tr th {\n",
       "        vertical-align: top;\n",
       "    }\n",
       "\n",
       "    .dataframe thead th {\n",
       "        text-align: right;\n",
       "    }\n",
       "</style>\n",
       "<table border=\"1\" class=\"dataframe\">\n",
       "  <thead>\n",
       "    <tr style=\"text-align: right;\">\n",
       "      <th></th>\n",
       "      <th>Name</th>\n",
       "      <th>Field</th>\n",
       "      <th>Size</th>\n",
       "      <th>Description</th>\n",
       "    </tr>\n",
       "  </thead>\n",
       "  <tbody>\n",
       "    <tr>\n",
       "      <th>50</th>\n",
       "      <td>PlaceIQ</td>\n",
       "      <td>Location Intelligence</td>\n",
       "      <td>101 to 250</td>\n",
       "      <td>PlaceIQ is a leading data and technology compa...</td>\n",
       "    </tr>\n",
       "    <tr>\n",
       "      <th>52</th>\n",
       "      <td>StreetCred</td>\n",
       "      <td>Mapping, GIS, Blockchain, Decentralization</td>\n",
       "      <td>1 to 5</td>\n",
       "      <td>StreetCred offers accessible data for places p...</td>\n",
       "    </tr>\n",
       "    <tr>\n",
       "      <th>58</th>\n",
       "      <td>Vizonomy</td>\n",
       "      <td>Mapping, GIS, Internet Of Things, Urban Planni...</td>\n",
       "      <td>25 to 30</td>\n",
       "      <td>Vizonomy is a leading Design &amp; Consulting firm...</td>\n",
       "    </tr>\n",
       "    <tr>\n",
       "      <th>61</th>\n",
       "      <td>Airsage</td>\n",
       "      <td>Location Data Analytics, Location Intelligence...</td>\n",
       "      <td>11-50</td>\n",
       "      <td>AIRSAGE pioneered the transformation of of wir...</td>\n",
       "    </tr>\n",
       "    <tr>\n",
       "      <th>65</th>\n",
       "      <td>Point Inside</td>\n",
       "      <td>Indoor Mapping, Navigation</td>\n",
       "      <td>11 to 50</td>\n",
       "      <td>Point Inside produces indoor maps to enable lo...</td>\n",
       "    </tr>\n",
       "  </tbody>\n",
       "</table>\n",
       "</div>"
      ],
      "text/plain": [
       "            Name                                              Field  \\\n",
       "50       PlaceIQ                              Location Intelligence   \n",
       "52    StreetCred         Mapping, GIS, Blockchain, Decentralization   \n",
       "58      Vizonomy  Mapping, GIS, Internet Of Things, Urban Planni...   \n",
       "61       Airsage  Location Data Analytics, Location Intelligence...   \n",
       "65  Point Inside                         Indoor Mapping, Navigation   \n",
       "\n",
       "          Size                                        Description  \n",
       "50  101 to 250  PlaceIQ is a leading data and technology compa...  \n",
       "52      1 to 5  StreetCred offers accessible data for places p...  \n",
       "58    25 to 30  Vizonomy is a leading Design & Consulting firm...  \n",
       "61       11-50  AIRSAGE pioneered the transformation of of wir...  \n",
       "65    11 to 50  Point Inside produces indoor maps to enable lo...  "
      ]
     },
     "execution_count": 23,
     "metadata": {},
     "output_type": "execute_result"
    }
   ],
   "source": [
    "df_100_inUSA.columns=['Name','Field','Size','Description','Location','inUSA']"
   ]
  },
  {
   "cell_type": "code",
   "execution_count": 32,
   "metadata": {},
   "outputs": [],
   "source": [
    "import requests as rq\n",
    "from bs4 import BeautifulSoup\n",
    "import warnings\n",
    "\n",
    "warnings.filterwarnings(\"ignore\")\n",
    "\n",
    "user_agent = \"Mozilla/5.0 (Macintosh; Intel Mac OS X 10_15_1) \\\n",
    "    AppleWebKit/537.36 (KHTML, like Gecko) Chrome/80.0.3987.132 \\\n",
    "    Safari/537.36\"\n",
    "\n",
    "def search(keyword):\n",
    "    try:\n",
    "        res = rq.get(\n",
    "            \"http://google.com/search?q=\" + keyword,\n",
    "            headers={\"User-Agent\": user_agent})\n",
    "        soup = BeautifulSoup(res.text)\n",
    "        return [t.contents[0] for t in soup.find_all('cite')]\n",
    "    except Exception as e:\n",
    "        print(\"failed to search {}, got exception {}\".format(keyword, e))"
   ]
  },
  {
   "cell_type": "code",
   "execution_count": 34,
   "metadata": {},
   "outputs": [
    {
     "data": {
      "text/plain": [
       "50                               www.placeiq.com\n",
       "52                          www.mystreetcred.org\n",
       "58                              www.vizonomy.com\n",
       "61                               www.airsage.com\n",
       "65                           www.pointinside.com\n",
       "68                                 www.radar.io/\n",
       "73                             www.autodesk.com/\n",
       "74                               datacapable.com\n",
       "76                                www.digmap.com\n",
       "82    www.swiftnav.com/Swift-RTK-GNSS/Learn-More\n",
       "86                     www.topconpositioning.com\n",
       "88                              www.navisens.com\n",
       "89                        www.bentleymotors.com/\n",
       "92                            https://city78.org\n",
       "98                               mapanything.com\n",
       "Name: Website, dtype: object"
      ]
     },
     "execution_count": 34,
     "metadata": {},
     "output_type": "execute_result"
    }
   ],
   "source": [
    "df_100_inUSA['Website'] = df_100_inUSA['Name'].apply(lambda x: search(x)[0])\n",
    "df_100_inUSA['Website']"
   ]
  },
  {
   "cell_type": "code",
   "execution_count": 35,
   "metadata": {},
   "outputs": [
    {
     "data": {
      "text/html": [
       "<div>\n",
       "<style scoped>\n",
       "    .dataframe tbody tr th:only-of-type {\n",
       "        vertical-align: middle;\n",
       "    }\n",
       "\n",
       "    .dataframe tbody tr th {\n",
       "        vertical-align: top;\n",
       "    }\n",
       "\n",
       "    .dataframe thead th {\n",
       "        text-align: right;\n",
       "    }\n",
       "</style>\n",
       "<table border=\"1\" class=\"dataframe\">\n",
       "  <thead>\n",
       "    <tr style=\"text-align: right;\">\n",
       "      <th></th>\n",
       "      <th>Name</th>\n",
       "      <th>Field</th>\n",
       "      <th>Size</th>\n",
       "      <th>Description</th>\n",
       "      <th>Website</th>\n",
       "    </tr>\n",
       "  </thead>\n",
       "  <tbody>\n",
       "    <tr>\n",
       "      <th>50</th>\n",
       "      <td>PlaceIQ</td>\n",
       "      <td>Location Intelligence</td>\n",
       "      <td>101 to 250</td>\n",
       "      <td>PlaceIQ is a leading data and technology compa...</td>\n",
       "      <td>www.placeiq.com</td>\n",
       "    </tr>\n",
       "    <tr>\n",
       "      <th>52</th>\n",
       "      <td>StreetCred</td>\n",
       "      <td>Mapping, GIS, Blockchain, Decentralization</td>\n",
       "      <td>1 to 5</td>\n",
       "      <td>StreetCred offers accessible data for places p...</td>\n",
       "      <td>www.mystreetcred.org</td>\n",
       "    </tr>\n",
       "    <tr>\n",
       "      <th>58</th>\n",
       "      <td>Vizonomy</td>\n",
       "      <td>Mapping, GIS, Internet Of Things, Urban Planni...</td>\n",
       "      <td>25 to 30</td>\n",
       "      <td>Vizonomy is a leading Design &amp; Consulting firm...</td>\n",
       "      <td>www.vizonomy.com</td>\n",
       "    </tr>\n",
       "    <tr>\n",
       "      <th>61</th>\n",
       "      <td>Airsage</td>\n",
       "      <td>Location Data Analytics, Location Intelligence...</td>\n",
       "      <td>11-50</td>\n",
       "      <td>AIRSAGE pioneered the transformation of of wir...</td>\n",
       "      <td>www.airsage.com</td>\n",
       "    </tr>\n",
       "    <tr>\n",
       "      <th>65</th>\n",
       "      <td>Point Inside</td>\n",
       "      <td>Indoor Mapping, Navigation</td>\n",
       "      <td>11 to 50</td>\n",
       "      <td>Point Inside produces indoor maps to enable lo...</td>\n",
       "      <td>www.pointinside.com</td>\n",
       "    </tr>\n",
       "  </tbody>\n",
       "</table>\n",
       "</div>"
      ],
      "text/plain": [
       "            Name                                              Field  \\\n",
       "50       PlaceIQ                              Location Intelligence   \n",
       "52    StreetCred         Mapping, GIS, Blockchain, Decentralization   \n",
       "58      Vizonomy  Mapping, GIS, Internet Of Things, Urban Planni...   \n",
       "61       Airsage  Location Data Analytics, Location Intelligence...   \n",
       "65  Point Inside                         Indoor Mapping, Navigation   \n",
       "\n",
       "          Size                                        Description  \\\n",
       "50  101 to 250  PlaceIQ is a leading data and technology compa...   \n",
       "52      1 to 5  StreetCred offers accessible data for places p...   \n",
       "58    25 to 30  Vizonomy is a leading Design & Consulting firm...   \n",
       "61       11-50  AIRSAGE pioneered the transformation of of wir...   \n",
       "65    11 to 50  Point Inside produces indoor maps to enable lo...   \n",
       "\n",
       "                 Website  \n",
       "50       www.placeiq.com  \n",
       "52  www.mystreetcred.org  \n",
       "58      www.vizonomy.com  \n",
       "61       www.airsage.com  \n",
       "65   www.pointinside.com  "
      ]
     },
     "execution_count": 35,
     "metadata": {},
     "output_type": "execute_result"
    }
   ],
   "source": [
    "# Save In USA CSV\n",
    "df100_USA_exp = df_100_inUSA[['Name','Field','Size','Description','Website']]\n",
    "df100_USA_exp.head()"
   ]
  },
  {
   "cell_type": "code",
   "execution_count": 36,
   "metadata": {},
   "outputs": [],
   "source": [
    "df100_USA_exp.to_csv('df_100_inUSA.csv')"
   ]
  },
  {
   "cell_type": "code",
   "execution_count": 37,
   "metadata": {},
   "outputs": [
    {
     "data": {
      "text/plain": [
       "51                                          www.vgis.io\n",
       "53                                    www.livingmap.com\n",
       "54                                        www.ubimo.com\n",
       "55                                     www.gruntify.com\n",
       "56                                         positium.com\n",
       "57                                       www.geocat.net\n",
       "59                                     www.spatineo.com\n",
       "60                                       socialcops.com\n",
       "62       www.merriam-webster.com › dictionary › indoors\n",
       "63                                  www.indooratlas.com\n",
       "64                                      www.nextome.net\n",
       "66                                     www.geoblink.com\n",
       "67                                             ‎Rathore\n",
       "69                                     gatherboston.com\n",
       "70                                       www.azimap.com\n",
       "71                                  www.spectator.co.uk\n",
       "72                                     skymapglobal.com\n",
       "75                                   www.jibestream.com\n",
       "77                                     awesome-maps.com\n",
       "78    www.startupnight.net › startups › beaconinside...\n",
       "79                                     www.28east.co.za\n",
       "80                                            carto.com\n",
       "81                    en.wikipedia.org › wiki › Geocode\n",
       "83                             www.navvishealthcare.com\n",
       "84                                       www.navmii.com\n",
       "85                                     maptionnaire.com\n",
       "87                                  www.descifra.global\n",
       "90                                 https://orbica.world\n",
       "91                                      www.beeline.com\n",
       "93                           geo-map.co.za › page-about\n",
       "94                                           soar.earth\n",
       "95                           www.traveltimeplatform.com\n",
       "96                                      www.rticorp.com\n",
       "97                                      www.echosec.net\n",
       "99                                   www.geolytix.co.uk\n",
       "Name: Website, dtype: object"
      ]
     },
     "execution_count": 37,
     "metadata": {},
     "output_type": "execute_result"
    }
   ],
   "source": [
    "df_100_outUSA = df_sel_100.loc[df_sel_100['inUSA'] == False]\n",
    "df_100_outUSA.columns=['Name','Field','Size','Description','Location','inUSA']\n",
    "df_100_outUSA['Website'] = df_100_outUSA['Name'].apply(lambda x: search(x)[0])\n",
    "df_100_outUSA['Website']"
   ]
  },
  {
   "cell_type": "code",
   "execution_count": 40,
   "metadata": {},
   "outputs": [
    {
     "data": {
      "text/html": [
       "<div>\n",
       "<style scoped>\n",
       "    .dataframe tbody tr th:only-of-type {\n",
       "        vertical-align: middle;\n",
       "    }\n",
       "\n",
       "    .dataframe tbody tr th {\n",
       "        vertical-align: top;\n",
       "    }\n",
       "\n",
       "    .dataframe thead th {\n",
       "        text-align: right;\n",
       "    }\n",
       "</style>\n",
       "<table border=\"1\" class=\"dataframe\">\n",
       "  <thead>\n",
       "    <tr style=\"text-align: right;\">\n",
       "      <th></th>\n",
       "      <th>Name</th>\n",
       "      <th>Field</th>\n",
       "      <th>Size</th>\n",
       "      <th>Location</th>\n",
       "      <th>Description</th>\n",
       "      <th>Website</th>\n",
       "    </tr>\n",
       "  </thead>\n",
       "  <tbody>\n",
       "    <tr>\n",
       "      <th>51</th>\n",
       "      <td>Meemim Inc. (vGIS)</td>\n",
       "      <td>Mapping, GIS</td>\n",
       "      <td>10 to 20</td>\n",
       "      <td>Toronto, Ontario, Canada</td>\n",
       "      <td>Meemim Inc. develops leading-edge augmented re...</td>\n",
       "      <td>www.vgis.io</td>\n",
       "    </tr>\n",
       "    <tr>\n",
       "      <th>53</th>\n",
       "      <td>Living Map</td>\n",
       "      <td>Location Data Analytics, Location Intelligence...</td>\n",
       "      <td>30 to 40</td>\n",
       "      <td>Bath, UK</td>\n",
       "      <td>Living Map is a digital map and data platform ...</td>\n",
       "      <td>www.livingmap.com</td>\n",
       "    </tr>\n",
       "    <tr>\n",
       "      <th>54</th>\n",
       "      <td>Ubimo</td>\n",
       "      <td>Location Data Analytics, Location Intelligence...</td>\n",
       "      <td>30 to 50</td>\n",
       "      <td>Tel Aviv, Israel</td>\n",
       "      <td>Ubimo is a leading Location Intelligence (LI) ...</td>\n",
       "      <td>www.ubimo.com</td>\n",
       "    </tr>\n",
       "    <tr>\n",
       "      <th>55</th>\n",
       "      <td>Gruntify</td>\n",
       "      <td>Location Data Analytics, Location Intelligence...</td>\n",
       "      <td>10 to 20</td>\n",
       "      <td>Brisbane, Australia</td>\n",
       "      <td>From its humble beginnings, as a winner of the...</td>\n",
       "      <td>www.gruntify.com</td>\n",
       "    </tr>\n",
       "    <tr>\n",
       "      <th>56</th>\n",
       "      <td>Positium LBS</td>\n",
       "      <td>Location Data Analytics, Location Intelligence...</td>\n",
       "      <td>10 to 20</td>\n",
       "      <td>Tartu, Estonia</td>\n",
       "      <td>Positium is a data analytics company stemming ...</td>\n",
       "      <td>positium.com</td>\n",
       "    </tr>\n",
       "  </tbody>\n",
       "</table>\n",
       "</div>"
      ],
      "text/plain": [
       "                  Name                                              Field  \\\n",
       "51  Meemim Inc. (vGIS)                                       Mapping, GIS   \n",
       "53          Living Map  Location Data Analytics, Location Intelligence...   \n",
       "54               Ubimo  Location Data Analytics, Location Intelligence...   \n",
       "55            Gruntify  Location Data Analytics, Location Intelligence...   \n",
       "56        Positium LBS  Location Data Analytics, Location Intelligence...   \n",
       "\n",
       "        Size                  Location  \\\n",
       "51  10 to 20  Toronto, Ontario, Canada   \n",
       "53  30 to 40                  Bath, UK   \n",
       "54  30 to 50          Tel Aviv, Israel   \n",
       "55  10 to 20       Brisbane, Australia   \n",
       "56  10 to 20            Tartu, Estonia   \n",
       "\n",
       "                                          Description            Website  \n",
       "51  Meemim Inc. develops leading-edge augmented re...        www.vgis.io  \n",
       "53  Living Map is a digital map and data platform ...  www.livingmap.com  \n",
       "54  Ubimo is a leading Location Intelligence (LI) ...      www.ubimo.com  \n",
       "55  From its humble beginnings, as a winner of the...   www.gruntify.com  \n",
       "56  Positium is a data analytics company stemming ...       positium.com  "
      ]
     },
     "execution_count": 40,
     "metadata": {},
     "output_type": "execute_result"
    }
   ],
   "source": [
    "df100_other_exp = df_100_outUSA[['Name','Field','Size','Location','Description','Website']]\n",
    "df100_other_exp.head()"
   ]
  },
  {
   "cell_type": "code",
   "execution_count": 41,
   "metadata": {},
   "outputs": [],
   "source": [
    "# Save Other csv\n",
    "df100_other_exp.to_csv('df100_other.csv')"
   ]
  }
 ],
 "metadata": {
  "kernelspec": {
   "display_name": "Python 3",
   "language": "python",
   "name": "python3"
  },
  "language_info": {
   "codemirror_mode": {
    "name": "ipython",
    "version": 3
   },
   "file_extension": ".py",
   "mimetype": "text/x-python",
   "name": "python",
   "nbconvert_exporter": "python",
   "pygments_lexer": "ipython3",
   "version": "3.7.6"
  }
 },
 "nbformat": 4,
 "nbformat_minor": 4
}
